{
 "cells": [
  {
   "cell_type": "code",
   "execution_count": 47,
   "metadata": {},
   "outputs": [],
   "source": [
    "\n",
    "from csv import reader\n",
    "\n",
    "### The Google Play data set ###\n",
    "opened_file = open('googleplaystore.csv')\n",
    "read_file = reader(opened_file)\n",
    "android = list(read_file)\n",
    "android_header = android[0]\n",
    "android = android[1:]\n",
    "\n",
    "### The App Store data set ###\n",
    "opened_file = open('AppleStore.csv')\n",
    "read_file = reader(opened_file)\n",
    "ios = list(read_file)\n",
    "ios_header = ios[0]\n",
    "ios = ios[1:]"
   ]
  },
  {
   "cell_type": "code",
   "execution_count": 48,
   "metadata": {},
   "outputs": [
    {
     "name": "stdout",
     "output_type": "stream",
     "text": [
      "['App', 'Category', 'Rating', 'Reviews', 'Size', 'Installs', 'Type', 'Price', 'Content Rating', 'Genres', 'Last Updated', 'Current Ver', 'Android Ver']\n",
      "\n",
      "\n",
      "['Photo Editor & Candy Camera & Grid & ScrapBook', 'ART_AND_DESIGN', '4.1', '159', '19M', '10,000+', 'Free', '0', 'Everyone', 'Art & Design', 'January 7, 2018', '1.0.0', '4.0.3 and up']\n",
      "\n",
      "\n",
      "['Coloring book moana', 'ART_AND_DESIGN', '3.9', '967', '14M', '500,000+', 'Free', '0', 'Everyone', 'Art & Design;Pretend Play', 'January 15, 2018', '2.0.0', '4.0.3 and up']\n",
      "\n",
      "\n",
      "['U Launcher Lite – FREE Live Cool Themes, Hide Apps', 'ART_AND_DESIGN', '4.7', '87510', '8.7M', '5,000,000+', 'Free', '0', 'Everyone', 'Art & Design', 'August 1, 2018', '1.2.4', '4.0.3 and up']\n",
      "\n",
      "\n",
      "Number of rows: 10841\n",
      "Number of columns: 13\n"
     ]
    }
   ],
   "source": [
    "def explore_data(dataset, start, end, rows_and_columns=False):\n",
    "    dataset_slice = dataset[start:end]    \n",
    "    for row in dataset_slice:\n",
    "        print(row)\n",
    "        print('\\n') # adds a new (empty) line between rows\n",
    "        \n",
    "    if rows_and_columns:\n",
    "        print('Number of rows:', len(dataset))\n",
    "        print('Number of columns:', len(dataset[0]))\n",
    "\n",
    "print(android_header)\n",
    "print('\\n')\n",
    "explore_data(android, 0, 3, True)"
   ]
  },
  {
   "cell_type": "code",
   "execution_count": 49,
   "metadata": {},
   "outputs": [
    {
     "name": "stdout",
     "output_type": "stream",
     "text": [
      "['id', 'track_name', 'size_bytes', 'currency', 'price', 'rating_count_tot', 'rating_count_ver', 'user_rating', 'user_rating_ver', 'ver', 'cont_rating', 'prime_genre', 'sup_devices.num', 'ipadSc_urls.num', 'lang.num', 'vpp_lic']\n",
      "\n",
      "\n",
      "['284882215', 'Facebook', '389879808', 'USD', '0.0', '2974676', '212', '3.5', '3.5', '95.0', '4+', 'Social Networking', '37', '1', '29', '1']\n",
      "\n",
      "\n",
      "['389801252', 'Instagram', '113954816', 'USD', '0.0', '2161558', '1289', '4.5', '4.0', '10.23', '12+', 'Photo & Video', '37', '0', '29', '1']\n",
      "\n",
      "\n",
      "['529479190', 'Clash of Clans', '116476928', 'USD', '0.0', '2130805', '579', '4.5', '4.5', '9.24.12', '9+', 'Games', '38', '5', '18', '1']\n",
      "\n",
      "\n",
      "['420009108', 'Temple Run', '65921024', 'USD', '0.0', '1724546', '3842', '4.5', '4.0', '1.6.2', '9+', 'Games', '40', '5', '1', '1']\n",
      "\n",
      "\n",
      "['284035177', 'Pandora - Music & Radio', '130242560', 'USD', '0.0', '1126879', '3594', '4.0', '4.5', '8.4.1', '12+', 'Music', '37', '4', '1', '1']\n",
      "\n",
      "\n",
      "['429047995', 'Pinterest', '74778624', 'USD', '0.0', '1061624', '1814', '4.5', '4.0', '6.26', '12+', 'Social Networking', '37', '5', '27', '1']\n",
      "\n",
      "\n",
      "['282935706', 'Bible', '92774400', 'USD', '0.0', '985920', '5320', '4.5', '5.0', '7.5.1', '4+', 'Reference', '37', '5', '45', '1']\n",
      "\n",
      "\n",
      "['553834731', 'Candy Crush Saga', '222846976', 'USD', '0.0', '961794', '2453', '4.5', '4.5', '1.101.0', '4+', 'Games', '43', '5', '24', '1']\n",
      "\n",
      "\n",
      "['324684580', 'Spotify Music', '132510720', 'USD', '0.0', '878563', '8253', '4.5', '4.5', '8.4.3', '12+', 'Music', '37', '5', '18', '1']\n",
      "\n",
      "\n",
      "['343200656', 'Angry Birds', '175966208', 'USD', '0.0', '824451', '107', '4.5', '3.0', '7.4.0', '4+', 'Games', '38', '0', '10', '1']\n",
      "\n",
      "\n",
      "['512939461', 'Subway Surfers', '156038144', 'USD', '0.0', '706110', '97', '4.5', '4.0', '1.72.1', '9+', 'Games', '38', '5', '1', '1']\n",
      "\n",
      "\n",
      "['362949845', 'Fruit Ninja Classic', '104590336', 'USD', '1.99', '698516', '132', '4.5', '4.0', '2.3.9', '4+', 'Games', '38', '5', '13', '1']\n",
      "\n",
      "\n",
      "['359917414', 'Solitaire', '101943296', 'USD', '0.0', '679055', '9673', '4.5', '4.5', '4.11.2', '4+', 'Games', '38', '4', '11', '1']\n",
      "\n",
      "\n",
      "['469369175', 'CSR Racing', '524803072', 'USD', '0.0', '677247', '2029', '4.5', '4.5', '4.0.1', '4+', 'Games', '37', '5', '10', '1']\n",
      "\n",
      "\n",
      "['924373886', 'Crossy Road - Endless Arcade Hopper', '165471232', 'USD', '0.0', '669079', '1087', '4.5', '4.5', '1.5.4', '9+', 'Games', '38', '5', '13', '1']\n",
      "\n",
      "\n",
      "['575658129', 'Injustice: Gods Among Us', '1829599232', 'USD', '0.0', '612532', '410', '4.5', '4.5', '2.15.1', '12+', 'Games', '39', '5', '13', '1']\n",
      "\n",
      "\n",
      "['506627515', 'Hay Day', '113641472', 'USD', '0.0', '567344', '4887', '4.5', '4.5', '1.33.134', '4+', 'Games', '38', '5', '18', '1']\n",
      "\n",
      "\n",
      "['500116670', 'Clear Vision (17+)', '37879808', 'USD', '0.99', '541693', '69225', '4.5', '4.5', '1.1.3', '17+', 'Games', '43', '5', '1', '1']\n",
      "\n",
      "\n",
      "['479516143', 'Minecraft: Pocket Edition', '147787776', 'USD', '6.99', '522012', '1148', '4.5', '4.5', '1.1', '9+', 'Games', '37', '1', '11', '1']\n",
      "\n",
      "\n",
      "['293778748', 'PAC-MAN', '100849664', 'USD', '0.0', '508808', '99', '3.0', '4.5', '6.3.5', '4+', 'Games', '38', '5', '10', '1']\n",
      "\n",
      "\n",
      "['341232718', 'Calorie Counter & Diet Tracker by MyFitnessPal', '152700928', 'USD', '0.0', '507706', '181', '4.5', '4.5', '7.16', '4+', 'Health & Fitness', '37', '5', '19', '1']\n",
      "\n",
      "\n",
      "['440045374', 'DragonVale', '153074688', 'USD', '0.0', '503230', '282', '4.5', '4.5', '3.15.0', '4+', 'Games', '37', '5', '10', '1']\n",
      "\n",
      "\n",
      "['295646461', 'The Weather Channel: Forecast, Radar & Alerts', '199734272', 'USD', '0.0', '495626', '5893', '3.5', '4.5', '8.11', '4+', 'Weather', '37', '0', '33', '1']\n",
      "\n",
      "\n",
      "['487119327', 'Head Soccer', '121319424', 'USD', '0.0', '481564', '8518', '5.0', '5.0', '5.4.1', '4+', 'Games', '40', '4', '11', '1']\n",
      "\n",
      "\n",
      "['284815942', 'Google – Search made just for mobile', '179979264', 'USD', '0.0', '479440', '203', '3.5', '4.0', '27.0', '17+', 'Utilities', '37', '4', '33', '1']\n",
      "\n",
      "\n",
      "['596402997', 'Despicable Me: Minion Rush', '147123200', 'USD', '0.0', '464312', '444', '4.5', '4.5', '4.6.0', '9+', 'Games', '38', '5', '16', '1']\n",
      "\n",
      "\n",
      "['466965151', 'The Sims™ FreePlay', '695603200', 'USD', '0.0', '446880', '1832', '4.5', '4.0', '5.29.0', '12+', 'Games', '38', '5', '12', '1']\n",
      "\n",
      "\n",
      "['293622097', 'Google Earth', '37214208', 'USD', '0.0', '446185', '1359', '3.5', '3.5', '7.1.6', '4+', 'Travel', '43', '5', '30', '1']\n",
      "\n",
      "\n",
      "['350642635', 'Plants vs. Zombies', '105379840', 'USD', '0.99', '426463', '680', '5.0', '4.0', '1.9.13', '9+', 'Games', '38', '0', '5', '1']\n",
      "\n",
      "\n",
      "['582654048', 'Sonic Dash', '186687488', 'USD', '0.0', '418033', '419', '4.5', '4.5', '3.7.1', '4+', 'Games', '37', '5', '7', '1']\n",
      "\n",
      "\n",
      "['352683833', 'Groupon - Deals, Coupons & Discount Shopping App', '127382528', 'USD', '0.0', '417779', '914', '4.5', '4.5', '17.7', '12+', 'Shopping', '37', '4', '10', '1']\n",
      "\n",
      "\n",
      "['543186831', '8 Ball Pool™', '86776832', 'USD', '0.0', '416736', '19076', '4.5', '4.5', '3.9.1', '4+', 'Games', '38', '5', '10', '1']\n",
      "\n",
      "\n",
      "['422667065', 'Tiny Tower - Free City Building', '124720128', 'USD', '0.0', '414803', '4536', '4.5', '4.5', '3.3.12', '12+', 'Games', '38', '4', '1', '1']\n",
      "\n",
      "\n",
      "['457446957', 'Jetpack Joyride', '108813312', 'USD', '0.0', '405647', '877', '4.5', '4.5', '1.9.24', '9+', 'Games', '38', '5', '3', '1']\n",
      "\n",
      "\n",
      "['510461758', 'Bike Race - Top Motorcycle Racing Games', '120187904', 'USD', '0.0', '405007', '4053', '4.5', '5.0', '7.3.11', '4+', 'Games', '38', '5', '9', '1']\n",
      "\n",
      "\n",
      "['284993459', 'Shazam - Discover music, artists, videos & lyrics', '147093504', 'USD', '0.0', '402925', '136', '4.0', '4.5', '11.0.3', '12+', 'Music', '37', '3', '16', '1']\n",
      "\n",
      "\n",
      "['860822992', 'Kim Kardashian: Hollywood', '239976448', 'USD', '0.0', '397730', '467', '4.5', '4.5', '6.6.0', '12+', 'Games', '38', '5', '1', '1']\n",
      "\n",
      "\n",
      "['307727765', 'Doodle Jump', '48741376', 'USD', '0.99', '395261', '88', '4.5', '4.5', '3.17.6', '4+', 'Games', '37', '0', '1', '1']\n",
      "\n",
      "\n",
      "['651510680', 'Trivia Crack', '265484288', 'USD', '0.0', '393469', '34', '4.5', '3.5', '2.40', '4+', 'Games', '37', '5', '26', '1']\n",
      "\n",
      "\n",
      "['708600202', 'WordBrain', '110595072', 'USD', '0.0', '391401', '82', '4.5', '4.5', '1.21.1', '4+', 'Games', '38', '5', '1', '1']\n",
      "\n",
      "\n",
      "['930574573', 'Sniper 3D Assassin: Shoot to Kill Gun Game', '157851648', 'USD', '0.0', '386521', '10332', '5.0', '5.0', '1.17.6', '17+', 'Games', '40', '5', '9', '1']\n",
      "\n",
      "\n",
      "['526641427', 'Flow Free', '20669440', 'USD', '0.0', '373857', '3428', '4.5', '4.5', '2.9', '4+', 'Games', '38', '5', '11', '1']\n",
      "\n",
      "\n",
      "['297368629', 'Lose It! – Weight Loss Program and Calorie Counter', '182054912', 'USD', '0.0', '373835', '402', '4.0', '4.5', '8.0.2', '4+', 'Health & Fitness', '37', '3', '1', '1']\n",
      "\n",
      "\n",
      "['304878510', 'Skype for iPhone', '133238784', 'USD', '0.0', '373519', '127', '3.5', '4.0', '6.35.1', '4+', 'Social Networking', '37', '0', '32', '1']\n",
      "\n",
      "\n",
      "['698255242', 'Geometry Dash Lite', '69076992', 'USD', '0.0', '370370', '2650', '5.0', '4.5', '2.11', '4+', 'Games', '37', '4', '1', '1']\n",
      "\n",
      "\n",
      "['488627858', 'Draw Something', '84379648', 'USD', '2.99', '360974', '3', '4.5', '4.5', '3.0.17', '4+', 'Games', '38', '5', '1', '1']\n",
      "\n",
      "\n",
      "['366247306', '▻Sudoku', '71002112', 'USD', '0.0', '359832', '17119', '4.5', '5.0', '5.4', '4+', 'Games', '40', '5', '7', '1']\n",
      "\n",
      "\n",
      "['333903271', 'Twitter', '210569216', 'USD', '0.0', '354058', '452', '3.5', '4.0', '6.79.1', '17+', 'News', '37', '2', '33', '1']\n",
      "\n",
      "\n",
      "['454638411', 'Messenger', '275729408', 'USD', '0.0', '351466', '892', '3.0', '3.0', '119.0', '4+', 'Social Networking', '37', '1', '33', '1']\n",
      "\n",
      "\n",
      "['323229106', 'Waze - GPS Navigation, Maps & Real-time Traffic', '94139392', 'USD', '0.0', '345046', '3040', '4.5', '4.5', '4.24', '4+', 'Navigation', '37', '5', '36', '1']\n",
      "\n",
      "\n",
      "['310738695', 'Zillow Real Estate - Homes for Sale & for Rent', '132632576', 'USD', '0.0', '342969', '88478', '4.5', '4.5', '10.4.5', '4+', 'Lifestyle', '37', '5', '1', '1']\n",
      "\n",
      "\n",
      "['305343404', 'Tumblr', '151573504', 'USD', '0.0', '334293', '919', '4.0', '4.0', '8.6', '17+', 'Social Networking', '37', '5', '16', '1']\n",
      "\n",
      "\n",
      "['403858572', 'Fruit Ninja®', '163801088', 'USD', '0.0', '327025', '82', '4.5', '4.0', '2.5.1', '4+', 'Games', '38', '5', '13', '1']\n",
      "\n",
      "\n",
      "['387428400', 'Infinity Blade', '624107810', 'USD', '0.99', '326482', '177050', '5.0', '5.0', '1.4.1', '12+', 'Games', '43', '5', '13', '1']\n",
      "\n",
      "\n",
      "['447188370', 'Snapchat', '203038720', 'USD', '0.0', '323905', '576', '2.5', '3.0', '10.9.2.0', '12+', 'Photo & Video', '37', '0', '22', '1']\n",
      "\n",
      "\n",
      "['363590051', 'Netflix', '125016064', 'USD', '0.0', '308844', '139', '3.5', '3.0', '9.21.3', '4+', 'Entertainment', '37', '5', '20', '1']\n",
      "\n",
      "\n",
      "['331177714', 'Starbucks', '135032832', 'USD', '0.0', '303856', '7027', '4.5', '4.5', '4.3.5', '4+', 'Food & Drink', '37', '0', '2', '1']\n",
      "\n",
      "\n",
      "['640111933', 'Pixel Gun 3D', '1744486400', 'USD', '0.0', '301182', '3493', '4.5', '4.5', '12.1.1', '12+', 'Games', '38', '5', '1', '1']\n",
      "\n",
      "\n",
      "['572395608', 'Temple Run 2', '158025728', 'USD', '0.0', '295211', '91', '4.5', '4.0', '1.37', '9+', 'Games', '38', '5', '1', '1']\n",
      "\n",
      "\n",
      "['421167112', 'My Horse', '301896704', 'USD', '0.0', '293857', '249', '4.5', '4.0', '1.30.0', '4+', 'Games', '40', '5', '8', '1']\n",
      "\n",
      "\n",
      "['290638154', 'iHeartRadio – Free Music & Radio Stations', '116443136', 'USD', '0.0', '293228', '110', '4.0', '3.0', '8.0.0', '12+', 'Music', '37', '5', '2', '1']\n",
      "\n",
      "\n",
      "['307906541', 'Fandango Movies - Times + Tickets', '81924096', 'USD', '0.0', '291787', '589', '4.0', '5.0', '8.6', '4+', 'Entertainment', '37', '4', '1', '1']\n",
      "\n",
      "\n",
      "['317469184', 'ESPN: Get scores, news, alerts & watch live sports', '51538944', 'USD', '0.0', '290996', '150', '3.5', '3.5', '5.7.1', '4+', 'Sports', '37', '5', '2', '1']\n",
      "\n",
      "\n",
      "['310633997', 'WhatsApp Messenger', '135044096', 'USD', '0.0', '287589', '73088', '4.5', '4.5', '2.17.22', '4+', 'Social Networking', '12', '0', '35', '1']\n",
      "\n",
      "\n",
      "['1153883316', 'Word Cookies!', '113321984', 'USD', '0.0', '287095', '16109', '4.5', '4.5', '1.2.6', '4+', 'Games', '38', '5', '1', '1']\n",
      "\n",
      "\n",
      "['544007664', 'YouTube - Watch Videos, Music, and Live Streams', '124673024', 'USD', '0.0', '278166', '0', '2.5', '0.0', '12.21', '17+', 'Photo & Video', '37', '4', '34', '1']\n",
      "\n",
      "\n",
      "['561941526', 'Dragon City Mobile', '123612160', 'USD', '0.0', '277268', '223', '4.5', '4.5', '4.11', '4+', 'Games', '38', '5', '12', '1']\n",
      "\n",
      "\n",
      "['497595276', 'The Simpsons™: Tapped Out', '86079488', 'USD', '0.0', '274501', '44', '4.0', '4.0', '4.27.0', '12+', 'Games', '38', '5', '18', '1']\n",
      "\n",
      "\n",
      "['597986893', 'Plants vs. Zombies™ 2', '98507776', 'USD', '0.0', '267394', '1763', '4.5', '4.5', '6.0.1', '9+', 'Games', '37', '5', '6', '1']\n",
      "\n",
      "\n",
      "['1053012308', 'Clash Royale', '114408448', 'USD', '0.0', '266921', '3967', '4.5', '4.0', '1.8.2', '9+', 'Games', '38', '5', '15', '1']\n",
      "\n",
      "\n",
      "['625334537', 'Geometry Dash', '83931136', 'USD', '1.99', '266440', '6263', '5.0', '4.5', '2.10', '4+', 'Games', '37', '4', '1', '1']\n",
      "\n",
      "\n",
      "['282614216', 'eBay: Best App to Buy, Sell, Save! Online Shopping', '128512000', 'USD', '0.0', '262241', '649', '4.0', '4.5', '5.10.0', '12+', 'Shopping', '37', '5', '9', '1']\n",
      "\n",
      "\n",
      "['357218860', 'Kik', '151864320', 'USD', '0.0', '260965', '228', '4.0', '3.0', '11.21.0', '12+', 'Social Networking', '37', '0', '14', '0']\n",
      "\n",
      "\n",
      "['436491861', \"Domino's Pizza USA\", '105743360', 'USD', '0.0', '258624', '2481', '5.0', '4.5', '4.2.0', '4+', 'Food & Drink', '37', '5', '2', '1']\n",
      "\n",
      "\n",
      "['1094591345', 'Pokémon GO', '290762752', 'USD', '0.0', '257627', '1284', '3.0', '3.5', '1.33.1', '9+', 'Games', '37', '5', '8', '1']\n",
      "\n",
      "\n",
      "['887947640', 'CSR Racing 2', '1944321024', 'USD', '0.0', '257100', '2025', '5.0', '5.0', '1.11.3', '4+', 'Games', '37', '5', '11', '1']\n",
      "\n",
      "\n",
      "['847985808', 'Star Wars™: Commander', '187205632', 'USD', '0.0', '253448', '315', '4.5', '4.5', '4.10.0', '9+', 'Games', '37', '5', '11', '1']\n",
      "\n",
      "\n",
      "['302584613', 'Kindle – Read eBooks, Magazines & Textbooks', '169747456', 'USD', '0.0', '252076', '80', '3.5', '4.5', '5.11', '4+', 'Book', '37', '5', '9', '1']\n",
      "\n",
      "\n",
      "['1009442510', 'Colorfy: Coloring Book for Adults', '124185600', 'USD', '0.0', '247809', '217', '4.5', '4.5', '3.7.1', '4+', 'Entertainment', '37', '5', '13', '1']\n",
      "\n",
      "\n",
      "['672150402', 'Boom Beach', '153955328', 'USD', '0.0', '241929', '2013', '4.5', '4.5', '30.125', '9+', 'Games', '38', '5', '4', '1']\n",
      "\n",
      "\n",
      "['896112560', 'MARVEL Contest of Champions', '868048896', 'USD', '0.0', '233599', '299', '4.5', '4.5', '13.1.0', '12+', 'Games', '38', '5', '17', '1']\n",
      "\n",
      "\n",
      "['298867247', 'Chase Mobile℠', '39505920', 'USD', '0.0', '233270', '14625', '4.5', '4.5', '2.610', '4+', 'Finance', '37', '0', '2', '1']\n",
      "\n",
      "\n",
      "['300238550', 'Mint: Personal Finance, Budget, Bills & Money', '162891776', 'USD', '0.0', '232940', '683', '4.0', '4.5', '5.9.0', '4+', 'Finance', '37', '5', '1', '1']\n",
      "\n",
      "\n",
      "['855627886', 'MADDEN NFL Mobile', '147190784', 'USD', '0.0', '230289', '411', '4.5', '4.5', '3.9.1', '4+', 'Games', '37', '5', '1', '1']\n",
      "\n",
      "\n",
      "['284910350', 'Yelp - Nearby Restaurants, Shopping & Services', '167407616', 'USD', '0.0', '223885', '3726', '4.0', '4.5', '11.15.0', '12+', 'Travel', '37', '5', '18', '1']\n",
      "\n",
      "\n",
      "['469960709', 'Bejeweled Blitz', '91591680', 'USD', '0.0', '221002', '131', '4.0', '4.0', '1.29.1', '4+', 'Games', '38', '5', '1', '1']\n",
      "\n",
      "\n",
      "['417817520', 'Tiny Wings', '30252032', 'USD', '0.99', '219418', '328', '4.5', '4.5', '2.2', '4+', 'Games', '37', '0', '6', '1']\n",
      "\n",
      "\n",
      "['658293394', 'Can You Escape', '64293888', 'USD', '0.0', '218024', '1734', '4.5', '4.5', '2.0', '4+', 'Games', '40', '5', '16', '1']\n",
      "\n",
      "\n",
      "['322423174', 'Traffic Rush', '8573952', 'USD', '0.99', '213092', '51', '3.5', '4.5', '1.45.1', '9+', 'Games', '37', '3', '1', '1']\n",
      "\n",
      "\n",
      "['364252504', 'The Weather Channel App for iPad – best local forecast, radar map, and storm tracking', '59101184', 'USD', '0.0', '208648', '25664', '4.0', '4.5', '4.5.1', '4+', 'Weather', '24', '4', '1', '1']\n",
      "\n",
      "\n",
      "Number of rows: 7197\n",
      "Number of columns: 16\n"
     ]
    }
   ],
   "source": [
    "print (ios_header)\n",
    "print('\\n')\n",
    "explore_data(ios,0,90,True)"
   ]
  },
  {
   "cell_type": "code",
   "execution_count": null,
   "metadata": {},
   "outputs": [],
   "source": []
  },
  {
   "cell_type": "code",
   "execution_count": null,
   "metadata": {},
   "outputs": [],
   "source": []
  },
  {
   "cell_type": "code",
   "execution_count": null,
   "metadata": {},
   "outputs": [],
   "source": []
  },
  {
   "cell_type": "code",
   "execution_count": 50,
   "metadata": {},
   "outputs": [
    {
     "name": "stdout",
     "output_type": "stream",
     "text": [
      "['Life Made WI-Fi Touchscreen Photo Frame', '1.9', '19', '3.0M', '1,000+', 'Free', '0', 'Everyone', '', 'February 11, 2018', '1.0.19', '4.0 and up']\n",
      "\n",
      "\n",
      "['App', 'Category', 'Rating', 'Reviews', 'Size', 'Installs', 'Type', 'Price', 'Content Rating', 'Genres', 'Last Updated', 'Current Ver', 'Android Ver']\n",
      "\n",
      "\n",
      "['Photo Editor & Candy Camera & Grid & ScrapBook', 'ART_AND_DESIGN', '4.1', '159', '19M', '10,000+', 'Free', '0', 'Everyone', 'Art & Design', 'January 7, 2018', '1.0.0', '4.0.3 and up']\n"
     ]
    }
   ],
   "source": [
    "print(android[10472])\n",
    "print('\\n')\n",
    "print(android_header)\n",
    "print('\\n')\n",
    "print(android[0])"
   ]
  },
  {
   "cell_type": "code",
   "execution_count": 51,
   "metadata": {},
   "outputs": [
    {
     "name": "stdout",
     "output_type": "stream",
     "text": [
      "10841\n",
      "10840\n"
     ]
    }
   ],
   "source": [
    "print(len(android))\n",
    "del android[10472] #dont run this twice!\n",
    "print(len(android))"
   ]
  },
  {
   "cell_type": "markdown",
   "metadata": {},
   "source": []
  },
  {
   "cell_type": "code",
   "execution_count": 52,
   "metadata": {},
   "outputs": [
    {
     "name": "stdout",
     "output_type": "stream",
     "text": [
      "['Instagram', 'SOCIAL', '4.5', '66577313', 'Varies with device', '1,000,000,000+', 'Free', '0', 'Teen', 'Social', 'July 31, 2018', 'Varies with device', 'Varies with device']\n",
      "['Instagram', 'SOCIAL', '4.5', '66577446', 'Varies with device', '1,000,000,000+', 'Free', '0', 'Teen', 'Social', 'July 31, 2018', 'Varies with device', 'Varies with device']\n",
      "['Instagram', 'SOCIAL', '4.5', '66577313', 'Varies with device', '1,000,000,000+', 'Free', '0', 'Teen', 'Social', 'July 31, 2018', 'Varies with device', 'Varies with device']\n",
      "['Instagram', 'SOCIAL', '4.5', '66509917', 'Varies with device', '1,000,000,000+', 'Free', '0', 'Teen', 'Social', 'July 31, 2018', 'Varies with device', 'Varies with device']\n"
     ]
    }
   ],
   "source": [
    "for app in android:\n",
    "    name = app[0]\n",
    "    if name == 'Instagram':\n",
    "        print(app)"
   ]
  },
  {
   "cell_type": "code",
   "execution_count": 53,
   "metadata": {},
   "outputs": [
    {
     "name": "stdout",
     "output_type": "stream",
     "text": [
      "Number of duplicate apps: 1181\n",
      "\n",
      "\n",
      "Examples of duplicate apps: ['Quick PDF Scanner + OCR FREE', 'Box', 'Google My Business', 'ZOOM Cloud Meetings', 'join.me - Simple Meetings', 'Box', 'Zenefits', 'Google Ads', 'Google My Business', 'Slack', 'FreshBooks Classic', 'Insightly CRM', 'QuickBooks Accounting: Invoicing & Expenses', 'HipChat - Chat Built for Teams', 'Xero Accounting Software']\n"
     ]
    }
   ],
   "source": [
    "duplicate_apps = []\n",
    "unique_apps = []\n",
    "\n",
    "for app in android:\n",
    "    name = app[0]\n",
    "    if name in unique_apps:\n",
    "        duplicate_apps.append(name)\n",
    "    else:\n",
    "        unique_apps.append(name)\n",
    "    \n",
    "print('Number of duplicate apps:', len(duplicate_apps))\n",
    "print('\\n')\n",
    "print('Examples of duplicate apps:', duplicate_apps[:15])"
   ]
  },
  {
   "cell_type": "code",
   "execution_count": 54,
   "metadata": {},
   "outputs": [
    {
     "name": "stdout",
     "output_type": "stream",
     "text": [
      "Expected Length 9659\n",
      "Actual Length 9659\n"
     ]
    }
   ],
   "source": [
    "reviews_max = {}\n",
    "for app in android:\n",
    "    name = app[0]\n",
    "    n_reviews = float(app[3])\n",
    "    \n",
    "    if name in reviews_max and reviews_max[name] < n_reviews:\n",
    "        reviews_max[name] = n_reviews\n",
    "        \n",
    "    elif name not in reviews_max:\n",
    "        reviews_max[name] = n_reviews\n",
    "        \n",
    "print ('Expected Length', len(android) - 1181)\n",
    "print ('Actual Length', len (reviews_max))\n",
    "        "
   ]
  },
  {
   "cell_type": "code",
   "execution_count": 55,
   "metadata": {},
   "outputs": [],
   "source": [
    "android_clean = []\n",
    "already_added = []\n",
    "\n",
    "for app in android:\n",
    "    name = app[0]\n",
    "    n_reviews = float(app[3])\n",
    "    \n",
    "    if (reviews_max[name] == n_reviews) and (name not in already_added):\n",
    "        android_clean.append(app)\n",
    "        already_added.append(name)\n",
    "    "
   ]
  },
  {
   "cell_type": "code",
   "execution_count": 37,
   "metadata": {},
   "outputs": [
    {
     "name": "stdout",
     "output_type": "stream",
     "text": [
      "['Photo Editor & Candy Camera & Grid & ScrapBook', 'ART_AND_DESIGN', '4.1', '159', '19M', '10,000+', 'Free', '0', 'Everyone', 'Art & Design', 'January 7, 2018', '1.0.0', '4.0.3 and up']\n",
      "\n",
      "\n",
      "['U Launcher Lite – FREE Live Cool Themes, Hide Apps', 'ART_AND_DESIGN', '4.7', '87510', '8.7M', '5,000,000+', 'Free', '0', 'Everyone', 'Art & Design', 'August 1, 2018', '1.2.4', '4.0.3 and up']\n",
      "\n",
      "\n",
      "['Sketch - Draw & Paint', 'ART_AND_DESIGN', '4.5', '215644', '25M', '50,000,000+', 'Free', '0', 'Teen', 'Art & Design', 'June 8, 2018', 'Varies with device', '4.2 and up']\n",
      "\n",
      "\n",
      "['Pixel Draw - Number Art Coloring Book', 'ART_AND_DESIGN', '4.3', '967', '2.8M', '100,000+', 'Free', '0', 'Everyone', 'Art & Design;Creativity', 'June 20, 2018', '1.1', '4.4 and up']\n",
      "\n",
      "\n",
      "['Paper flowers instructions', 'ART_AND_DESIGN', '4.4', '167', '5.6M', '50,000+', 'Free', '0', 'Everyone', 'Art & Design', 'March 26, 2017', '1.0', '2.3 and up']\n",
      "\n",
      "\n",
      "['Smoke Effect Photo Maker - Smoke Editor', 'ART_AND_DESIGN', '3.8', '178', '19M', '50,000+', 'Free', '0', 'Everyone', 'Art & Design', 'April 26, 2018', '1.1', '4.0.3 and up']\n",
      "\n",
      "\n",
      "['Infinite Painter', 'ART_AND_DESIGN', '4.1', '36815', '29M', '1,000,000+', 'Free', '0', 'Everyone', 'Art & Design', 'June 14, 2018', '6.1.61.1', '4.2 and up']\n",
      "\n",
      "\n",
      "['Garden Coloring Book', 'ART_AND_DESIGN', '4.4', '13791', '33M', '1,000,000+', 'Free', '0', 'Everyone', 'Art & Design', 'September 20, 2017', '2.9.2', '3.0 and up']\n",
      "\n",
      "\n",
      "['Kids Paint Free - Drawing Fun', 'ART_AND_DESIGN', '4.7', '121', '3.1M', '10,000+', 'Free', '0', 'Everyone', 'Art & Design;Creativity', 'July 3, 2018', '2.8', '4.0.3 and up']\n",
      "\n",
      "\n",
      "['Text on Photo - Fonteee', 'ART_AND_DESIGN', '4.4', '13880', '28M', '1,000,000+', 'Free', '0', 'Everyone', 'Art & Design', 'October 27, 2017', '1.0.4', '4.1 and up']\n",
      "\n",
      "\n",
      "['Name Art Photo Editor - Focus n Filters', 'ART_AND_DESIGN', '4.4', '8788', '12M', '1,000,000+', 'Free', '0', 'Everyone', 'Art & Design', 'July 31, 2018', '1.0.15', '4.0 and up']\n",
      "\n",
      "\n",
      "['Tattoo Name On My Photo Editor', 'ART_AND_DESIGN', '4.2', '44829', '20M', '10,000,000+', 'Free', '0', 'Teen', 'Art & Design', 'April 2, 2018', '3.8', '4.1 and up']\n",
      "\n",
      "\n",
      "['Mandala Coloring Book', 'ART_AND_DESIGN', '4.6', '4326', '21M', '100,000+', 'Free', '0', 'Everyone', 'Art & Design', 'June 26, 2018', '1.0.4', '4.4 and up']\n",
      "\n",
      "\n",
      "Number of rows: 9659\n",
      "Number of columns: 13\n"
     ]
    }
   ],
   "source": [
    "explore_data (android_clean,0,13,True)"
   ]
  },
  {
   "cell_type": "raw",
   "metadata": {},
   "source": []
  },
  {
   "cell_type": "raw",
   "metadata": {},
   "source": []
  },
  {
   "cell_type": "raw",
   "metadata": {},
   "source": [
    " "
   ]
  },
  {
   "cell_type": "code",
   "execution_count": 57,
   "metadata": {},
   "outputs": [],
   "source": [
    "def is_english(string):\n",
    "    for character in string:\n",
    "        if ord(character)>127:\n",
    "            return False\n",
    "        return True \n",
    "\n",
    "    print(is_english('Instagram'))\n",
    "    print(is_english('爱奇艺PPS -《欢乐颂2》电视剧热播'))\n",
    "    print(is_english('Docs To Go™ Free Office Suite'))\n",
    "    print(is_english('Instachat 😜'))"
   ]
  },
  {
   "cell_type": "code",
   "execution_count": null,
   "metadata": {},
   "outputs": [],
   "source": []
  },
  {
   "cell_type": "code",
   "execution_count": null,
   "metadata": {},
   "outputs": [],
   "source": []
  },
  {
   "cell_type": "code",
   "execution_count": null,
   "metadata": {},
   "outputs": [],
   "source": []
  },
  {
   "cell_type": "code",
   "execution_count": null,
   "metadata": {},
   "outputs": [],
   "source": []
  },
  {
   "cell_type": "code",
   "execution_count": null,
   "metadata": {},
   "outputs": [],
   "source": []
  },
  {
   "cell_type": "code",
   "execution_count": null,
   "metadata": {},
   "outputs": [],
   "source": []
  },
  {
   "cell_type": "code",
   "execution_count": null,
   "metadata": {},
   "outputs": [],
   "source": []
  },
  {
   "cell_type": "code",
   "execution_count": null,
   "metadata": {},
   "outputs": [],
   "source": []
  },
  {
   "cell_type": "code",
   "execution_count": null,
   "metadata": {},
   "outputs": [],
   "source": []
  },
  {
   "cell_type": "code",
   "execution_count": null,
   "metadata": {},
   "outputs": [],
   "source": []
  },
  {
   "cell_type": "code",
   "execution_count": null,
   "metadata": {},
   "outputs": [],
   "source": []
  },
  {
   "cell_type": "code",
   "execution_count": null,
   "metadata": {},
   "outputs": [],
   "source": []
  },
  {
   "cell_type": "code",
   "execution_count": null,
   "metadata": {},
   "outputs": [],
   "source": []
  },
  {
   "cell_type": "code",
   "execution_count": null,
   "metadata": {},
   "outputs": [],
   "source": []
  },
  {
   "cell_type": "code",
   "execution_count": null,
   "metadata": {},
   "outputs": [],
   "source": []
  },
  {
   "cell_type": "code",
   "execution_count": null,
   "metadata": {},
   "outputs": [],
   "source": []
  },
  {
   "cell_type": "code",
   "execution_count": null,
   "metadata": {},
   "outputs": [],
   "source": []
  },
  {
   "cell_type": "code",
   "execution_count": null,
   "metadata": {},
   "outputs": [],
   "source": []
  },
  {
   "cell_type": "code",
   "execution_count": null,
   "metadata": {},
   "outputs": [],
   "source": []
  },
  {
   "cell_type": "code",
   "execution_count": null,
   "metadata": {},
   "outputs": [],
   "source": []
  },
  {
   "cell_type": "code",
   "execution_count": null,
   "metadata": {},
   "outputs": [],
   "source": []
  },
  {
   "cell_type": "code",
   "execution_count": null,
   "metadata": {},
   "outputs": [],
   "source": []
  }
 ],
 "metadata": {
  "kernelspec": {
   "display_name": "Python 3",
   "language": "python",
   "name": "python3"
  },
  "language_info": {
   "codemirror_mode": {
    "name": "ipython",
    "version": 3
   },
   "file_extension": ".py",
   "mimetype": "text/x-python",
   "name": "python",
   "nbconvert_exporter": "python",
   "pygments_lexer": "ipython3",
   "version": "3.7.4"
  }
 },
 "nbformat": 4,
 "nbformat_minor": 2
}
